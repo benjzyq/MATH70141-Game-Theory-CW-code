{
 "cells": [
  {
   "cell_type": "code",
   "execution_count": 35,
   "metadata": {},
   "outputs": [],
   "source": [
    "import numpy as np\n",
    "from collections import Counter\n",
    "from fractions import Fraction\n",
    "def optimal_strategy(S, N):\n",
    "        temp_strategy = []\n",
    "        count = 0\n",
    "        if N % 2 == 0:\n",
    "            r = S % N\n",
    "            k = N//2\n",
    "            m = S // N\n",
    "            for i in range(k):\n",
    "                if count < r and r != 0:\n",
    "                    temp_strategy.append([2 * i + 1 for i in range(m + 1)])\n",
    "                    count += 1\n",
    "                else:\n",
    "                    temp_strategy.append([2 * i for i in range(m + 1)])\n",
    "            for i in range(k):\n",
    "                if count < r and r != 0:\n",
    "                    temp_strategy.append([2 * m - 2 * i + 1 for i in range(m+1)])\n",
    "                    count += 1\n",
    "                else:\n",
    "                    temp_strategy.append([2 * m - 2 * i for i in range(m+1)])\n",
    "            \n",
    "        else:\n",
    "            k = (N - 1)//2\n",
    "            m = S // N\n",
    "            r = S % N\n",
    "            if m % 2 == 0:\n",
    "                n = m//2\n",
    "                if  k!= 0:\n",
    "                    for _ in range(k):\n",
    "                        if count < r and r != 0:\n",
    "                            temp_strategy.append([2 * i + 1 for i in range(2*n + 1)])\n",
    "                            count += 1\n",
    "                        else:\n",
    "                            temp_strategy.append([2 * i for i in range(2*n + 1)])\n",
    "                    for _ in range(k-1):\n",
    "                        if count < r and r != 0:\n",
    "                            temp_strategy.append([4 * n - 2 * i + 1 for i in range(2*n+1)])\n",
    "                            count += 1\n",
    "                        else:\n",
    "                            temp_strategy.append([4 * n - 2 * i for i in range(2*n+1)])\n",
    "                    if count < r and r != 0:\n",
    "                        temp_strategy.append([2*(n+i)+1 for i in range(n+1)] + [2*j+1 for j in range(n)])\n",
    "                        count += 1\n",
    "                    else:\n",
    "                        temp_strategy.append([2*(n+i) for i in range(n+1)] + [2*j for j in range(n)])\n",
    "                    temp_strategy.append([4*(n-i) for i in range(n+1)] + [4*(n-j) - 2 for j in range(n)])\n",
    "                        \n",
    "                elif k == 0:\n",
    "                    if count < r and r != 0:\n",
    "                        temp_strategy.append([2*(n+i)+1 for i in range(n+1)] + [2*j+1 for j in range(n)])\n",
    "                        count += 1\n",
    "                    else:\n",
    "                        temp_strategy.append([2*(n+i) for i in range(n+1)] + [2*j for j in range(n)])\n",
    "                    temp_strategy.append([4*(n-i) for i in range(n+1)] + [4*(n-j) - 2 for j in range(n)])\n",
    "                    \n",
    "            else:\n",
    "                n = (m + 1)//2\n",
    "                if k!= 0:\n",
    "                    count += 1\n",
    "                    for _ in range(k-1):\n",
    "                        if count < r and r != 0:\n",
    "                            temp_strategy.append([2 * i + 1 for i in range(2*n)] + [2*j+1 for j in range(2*n)])\n",
    "                            count += 1\n",
    "                        else:\n",
    "                            temp_strategy.append([2 * i for i in range(2*n)]+[2*j for j in range(2*n)])\n",
    "                    for _ in range(k):\n",
    "                        if count < r and r != 0:\n",
    "                            temp_strategy.append([4 * n - 2 * i -1 for i in range(2*n)] + [4*n - 2*j - 1 for j in range(2*n)])\n",
    "                            count += 1\n",
    "                        else:\n",
    "                            temp_strategy.append([4 * n - 2 * i -2 for i in range(2*n)] + [4*n - 2*j - 2 for j in range(2*n)])\n",
    "                    if count < r and r != 0:\n",
    "                        temp_strategy.append([i+1 for i in range(4*n)])\n",
    "                        count += 1\n",
    "                    else:\n",
    "                        temp_strategy.append([i for i in range(4*n)])\n",
    "                    temp_strategy.append([2*n+i for i in range(2*n)] + [j for j in range(2*n)])\n",
    "                elif k == 0:\n",
    "                    count += 1\n",
    "                    if count < r and r != 0:\n",
    "                        temp_strategy.append([i+1 for i in range(4*n)])\n",
    "                        count += 1\n",
    "                    else:\n",
    "                        temp_strategy.append([i for i in range(4*n)])\n",
    "                    temp_strategy.append([2*n+i for i in range(2*n)] + [j for j in range(2*n)])\n",
    "        array_optimal_strategy = np.array(temp_strategy).T\n",
    "        optimalstrategy = [tuple(sorted(row)) for row in array_optimal_strategy]\n",
    "        length = len(optimalstrategy)\n",
    "        partition_count = Counter(optimalstrategy)\n",
    "        partition_construct = [f'({Fraction(frequency,length)}) * <{\",\".join(map(str, tuple_item))}>' for[tuple_item,frequency] in partition_count.items()]\n",
    "        partition = ' + '.join(partition_construct)\n",
    "        print(partition)"
   ]
  },
  {
   "cell_type": "code",
   "execution_count": 37,
   "metadata": {},
   "outputs": [
    {
     "name": "stdout",
     "output_type": "stream",
     "text": [
      "(1/2) * <0,2,3> + (1/2) * <1,1,3>\n"
     ]
    },
    {
     "data": {
      "text/plain": [
       "[(0, 2, 3), (1, 1, 3), (0, 2, 3), (1, 1, 3)]"
      ]
     },
     "execution_count": 37,
     "metadata": {},
     "output_type": "execute_result"
    }
   ],
   "source": [
    "optimal_strategy(5,3)"
   ]
  }
 ],
 "metadata": {
  "kernelspec": {
   "display_name": "PoP_venv",
   "language": "python",
   "name": "python3"
  },
  "language_info": {
   "codemirror_mode": {
    "name": "ipython",
    "version": 3
   },
   "file_extension": ".py",
   "mimetype": "text/x-python",
   "name": "python",
   "nbconvert_exporter": "python",
   "pygments_lexer": "ipython3",
   "version": "3.11.1"
  }
 },
 "nbformat": 4,
 "nbformat_minor": 2
}
